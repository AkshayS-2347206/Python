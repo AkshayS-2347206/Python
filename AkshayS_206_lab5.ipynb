{
 "cells": [
  {
   "cell_type": "code",
   "execution_count": 7,
   "metadata": {},
   "outputs": [
    {
     "name": "stdout",
     "output_type": "stream",
     "text": [
      "You cannot divide a number by zero\n"
     ]
    }
   ],
   "source": [
    "#Error Handling\n",
    "\n",
    "try:\n",
    "    a = 10\n",
    "    b = 0\n",
    "    print(a/b)\n",
    "except ZeroDivisionError as e:\n",
    "    print(\"You cannot divide a number by zero\")\n",
    "    "
   ]
  },
  {
   "cell_type": "code",
   "execution_count": 1,
   "metadata": {},
   "outputs": [
    {
     "name": "stdout",
     "output_type": "stream",
     "text": [
      "[1, 2, 3, 4, 5]\n",
      "Index is:  4\n",
      "Element at index 4 is 5\n",
      "This will print no matter what.\n"
     ]
    }
   ],
   "source": [
    "#Index Error\n",
    "lis = [1,2,3,4,5]\n",
    "print(lis)\n",
    "index = int(input(\"Enter the index between 0 to 4\"))\n",
    "print(\"Index is: \",index)\n",
    "try:\n",
    "    element = lis[index]\n",
    "    print(\"Element at index {} is {}\".format(index, element))\n",
    "except:\n",
    "    print(\"Give the index within the range 0 to 4\")\n",
    "finally:\n",
    "    print(\"This will print no matter what.\")\n",
    "if index > 4:\n",
    "    raise Exception(\"Give the index less than 4\")\n"
   ]
  }
 ],
 "metadata": {
  "kernelspec": {
   "display_name": "Python 3",
   "language": "python",
   "name": "python3"
  },
  "language_info": {
   "codemirror_mode": {
    "name": "ipython",
    "version": 3
   },
   "file_extension": ".py",
   "mimetype": "text/x-python",
   "name": "python",
   "nbconvert_exporter": "python",
   "pygments_lexer": "ipython3",
   "version": "3.11.4"
  },
  "orig_nbformat": 4
 },
 "nbformat": 4,
 "nbformat_minor": 2
}
