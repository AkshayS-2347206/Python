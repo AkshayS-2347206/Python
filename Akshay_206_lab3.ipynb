{
 "cells": [
  {
   "cell_type": "code",
   "execution_count": 21,
   "metadata": {},
   "outputs": [
    {
     "name": "stdout",
     "output_type": "stream",
     "text": [
      "{'name': 'Akshay', 'domain_name': 'Sports_Management', 'regno': '2347206'}\n"
     ]
    }
   ],
   "source": [
    "#String Split\n",
    "\n",
    "def sports_management(stringsplit):\n",
    "    split_word = stringsplit.split(\"__\")\n",
    "    \n",
    "\n",
    "    dict = {'name':split_word[0], 'domain_name':split_word[1], 'regno':split_word[2]}\n",
    "    return dict\n",
    "\n",
    "sports = \"Akshay__Sports_Management__2347206\"\n",
    "result = sports_management(sports)\n",
    "print(result)"
   ]
  },
  {
   "cell_type": "code",
   "execution_count": 22,
   "metadata": {},
   "outputs": [
    {
     "name": "stdout",
     "output_type": "stream",
     "text": [
      "Player: Alice, Age: 25, Position: Forward\n",
      "Coach: Bob, Age: 45, Experience: 15\n",
      "Manager: Charlie, Age: 50, Experience: 20, Title: Head Manager\n"
     ]
    }
   ],
   "source": [
    "#multilevel Inheritance \n",
    "\n",
    "class Sport:\n",
    "    def __init__(self, name, age):\n",
    "        self.name= name\n",
    "        self.age = age\n",
    "\n",
    "class Player(Sport):\n",
    "    def __init__(self, name, age, position):\n",
    "        super().__init__(name, age)\n",
    "        self.position = position\n",
    "    \n",
    "    def display_info(self):\n",
    "        print(f'Player: {self.name}, Age: {self.age}, Position: {self.position}')\n",
    "\n",
    "\n",
    "class Coach(Sport):\n",
    "    def __init__(self, name, age, experience):\n",
    "        super().__init__(name, age)\n",
    "        self.experience = experience\n",
    "\n",
    "    def display_info(self):\n",
    "        print(f\"Coach: {self.name}, Age: {self.age}, Experience: {self.experience}\")\n",
    "\n",
    "\n",
    "class Manager(Coach):\n",
    "    def __init__(self, name, age, experience, title):\n",
    "        super().__init__(name, age, experience)\n",
    "        self.title = title\n",
    "\n",
    "    def display_info(self):\n",
    "        print(f\"Manager: {self.name}, Age: {self.age}, Experience: {self.experience}, Title: {self.title}\")\n",
    "\n",
    "\n",
    "player = Player(\"Alice\", 25, \"Forward\")\n",
    "coach = Coach(\"Bob\", 45, 15)\n",
    "manager = Manager(\"Charlie\", 50, 20, \"Head Manager\")\n",
    "\n",
    "# Displaying information\n",
    "player.display_info()\n",
    "coach.display_info()\n",
    "manager.display_info()"
   ]
  },
  {
   "cell_type": "code",
   "execution_count": 23,
   "metadata": {},
   "outputs": [
    {
     "name": "stdout",
     "output_type": "stream",
     "text": [
      "This is Cricket\n",
      "This is Football\n",
      "You have to either choose Cricket or Football\n"
     ]
    }
   ],
   "source": [
    "\n",
    "#Multiple Inheritance  \n",
    "class Cricket:\n",
    "    def c1(self):\n",
    "        self.sport1 = \"Cricket\"\n",
    "        print(f\"This is {self.sport1}\")\n",
    "\n",
    "class Football:\n",
    "    def f1(self):\n",
    "        self.sport2 = \"Football\"\n",
    "        print(f\"This is {self.sport2}\")\n",
    "\n",
    "class Sports(Cricket, Football):\n",
    "    def display(self):\n",
    "        print(f\"You have to either choose {self.sport1} or {self.sport2}\")\n",
    "\n",
    "object = Sports()\n",
    "object.c1()\n",
    "object.f1()\n",
    "object.display()\n"
   ]
  },
  {
   "cell_type": "code",
   "execution_count": 24,
   "metadata": {},
   "outputs": [
    {
     "name": "stdout",
     "output_type": "stream",
     "text": [
      "This is the cricket Team\n",
      "This is the hockey team\n"
     ]
    }
   ],
   "source": [
    "#Hierarchical Inheritence\n",
    "class Teams:\n",
    "    def Team(self):\n",
    "        print(\"We have many Teams\")\n",
    "\n",
    "class Cricket(Teams):\n",
    "    def cricket_team(self):\n",
    "        print(\"This is the cricket Team\")\n",
    "\n",
    "class Hockey(Teams):\n",
    "    def hockey_team(self):\n",
    "        print(\"This is the hockey team\")\n",
    "\n",
    "object1 = Cricket()\n",
    "object2 = Hockey()\n",
    "object1.cricket_team()\n",
    "object2.hockey_team()"
   ]
  }
 ],
 "metadata": {
  "kernelspec": {
   "display_name": "Python 3",
   "language": "python",
   "name": "python3"
  },
  "language_info": {
   "codemirror_mode": {
    "name": "ipython",
    "version": 3
   },
   "file_extension": ".py",
   "mimetype": "text/x-python",
   "name": "python",
   "nbconvert_exporter": "python",
   "pygments_lexer": "ipython3",
   "version": "3.10.4"
  },
  "orig_nbformat": 4
 },
 "nbformat": 4,
 "nbformat_minor": 2
}
