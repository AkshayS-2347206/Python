{
 "cells": [
  {
   "cell_type": "code",
   "execution_count": 20,
   "metadata": {},
   "outputs": [
    {
     "name": "stdout",
     "output_type": "stream",
     "text": [
      "It is Valid\n"
     ]
    }
   ],
   "source": [
    "#Phone Number\n",
    "import re\n",
    "\n",
    "def valid(number):\n",
    "    pattern = re.compile(\"^(\\+\\d{1-2}\\s)?\\(?\\d{3}\\)?[\\s.-]\\d{3}[\\s.-]\\d{4}$\")\n",
    "    return pattern.match(number)\n",
    "\n",
    "number = \"123-456-7890\"\n",
    "if(valid(number)):\n",
    "    print(\"It is Valid\")\n",
    "else:\n",
    "    print(\"It is not valid\")"
   ]
  },
  {
   "cell_type": "code",
   "execution_count": 14,
   "metadata": {},
   "outputs": [
    {
     "name": "stdout",
     "output_type": "stream",
     "text": [
      "Strong Password\n"
     ]
    }
   ],
   "source": [
    "#Strong Password\n",
    "import re\n",
    "def password(string):\n",
    "    expression = re.compile(\"^(?=.*[a-z])(?=.*[A-Z])(?=.*\\d)(?=.*[@$!%*?&])[A-Za-z\\d@$!%*?&]{8,}$\")\n",
    "    return expression.search(string)\n",
    "string = \"Aks@12re2\"\n",
    "if (password(string)):\n",
    "    print(\"Strong Password\")\n",
    "else:\n",
    "    print(\"Weak Password\")"
   ]
  }
 ],
 "metadata": {
  "kernelspec": {
   "display_name": "Python 3",
   "language": "python",
   "name": "python3"
  },
  "language_info": {
   "codemirror_mode": {
    "name": "ipython",
    "version": 3
   },
   "file_extension": ".py",
   "mimetype": "text/x-python",
   "name": "python",
   "nbconvert_exporter": "python",
   "pygments_lexer": "ipython3",
   "version": "3.11.4"
  },
  "orig_nbformat": 4
 },
 "nbformat": 4,
 "nbformat_minor": 2
}
