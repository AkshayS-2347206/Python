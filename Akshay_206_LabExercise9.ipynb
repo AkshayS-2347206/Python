{
 "cells": [
  {
   "cell_type": "code",
   "execution_count": 4,
   "metadata": {},
   "outputs": [
    {
     "name": "stdout",
     "output_type": "stream",
     "text": [
      "Array Indexing\n",
      "3\n",
      "Fancy Indexing\n",
      "[2 4 6]\n"
     ]
    }
   ],
   "source": [
    "#Write a program to distinguish between Array Indexing and Fancy Indexing.\n",
    "\n",
    "import numpy as np\n",
    "arr = np.array([1,2,3,4,5,6])\n",
    "print(\"Array Indexing\")\n",
    "print( arr[2])\n",
    "\n",
    "fancy = np.array([1,3,5])\n",
    "print(\"Fancy Indexing\")\n",
    "print(arr[fancy])"
   ]
  },
  {
   "cell_type": "code",
   "execution_count": 8,
   "metadata": {},
   "outputs": [
    {
     "name": "stdout",
     "output_type": "stream",
     "text": [
      "Original Array\n",
      "[[1 2 3]\n",
      " [4 5 6]]\n",
      "\n",
      "Sliced Array\n",
      "[[4 5]]\n"
     ]
    }
   ],
   "source": [
    "#Execute the 2D array Slicing.\n",
    "\n",
    "import numpy as np\n",
    "\n",
    "arr = np.array([[1,2,3],[4,5,6]])\n",
    "print(\"Original Array\")\n",
    "print(arr)\n",
    "\n",
    "print(\"\\nSliced Array\")\n",
    "print(arr[1:3, 0:2]) "
   ]
  },
  {
   "cell_type": "code",
   "execution_count": 9,
   "metadata": {},
   "outputs": [
    {
     "name": "stdout",
     "output_type": "stream",
     "text": [
      "[[[[[1 2 3]]]]]\n"
     ]
    }
   ],
   "source": [
    "#Create the 5-Dimensional arrays using ‘ndmin’.\n",
    "\n",
    "import numpy as np\n",
    "\n",
    "arr=np.array([1,2,3], ndmin=5)\n",
    "print(arr)"
   ]
  },
  {
   "cell_type": "code",
   "execution_count": 11,
   "metadata": {},
   "outputs": [
    {
     "name": "stdout",
     "output_type": "stream",
     "text": [
      "[[1 2 3 4]\n",
      " [5 6 7 8]]\n"
     ]
    }
   ],
   "source": [
    "#Reshape the array from 1-D to 2-D array.\n",
    "\n",
    "import numpy as np\n",
    "arr = np.array([1,2,3,4,5,6,7,8])\n",
    "print(arr.reshape((2,4)))"
   ]
  },
  {
   "cell_type": "code",
   "execution_count": 22,
   "metadata": {},
   "outputs": [
    {
     "name": "stdout",
     "output_type": "stream",
     "text": [
      "[[1 2 3]\n",
      " [4 5 6]]\n",
      "------------------\n",
      "[1 2 3 4 5 6]\n",
      "-------------------\n",
      "[[1 2 3]\n",
      " [4 5 6]]\n",
      "--------------------------\n",
      "[[[1 4]\n",
      "  [2 5]\n",
      "  [3 6]]]\n"
     ]
    }
   ],
   "source": [
    "#Perform the Stack functions in Numpy arrays – Stack(), hstack(), vstack(), and dstack().\n",
    "\n",
    "import numpy as np\n",
    "arr1 = np.array([1,2,3])\n",
    "arr2 = np.array([4,5,6])\n",
    "stack = np.stack((arr1, arr2))\n",
    "print(stack)\n",
    "\n",
    "\n",
    "#hstack()\n",
    "print(\"------------------\")\n",
    "hstack = np.hstack((arr1, arr2))\n",
    "print(hstack)\n",
    "\n",
    "#vstack()\n",
    "print(\"-------------------\")\n",
    "vstack = np.vstack((arr1, arr2))\n",
    "print(vstack)\n",
    "\n",
    "\n",
    "#dstack\n",
    "print(\"--------------------------\")\n",
    "dstack = np.dstack((arr1, arr2))\n",
    "print(dstack)"
   ]
  },
  {
   "cell_type": "code",
   "execution_count": 23,
   "metadata": {},
   "outputs": [
    {
     "name": "stdout",
     "output_type": "stream",
     "text": [
      "2\n"
     ]
    }
   ],
   "source": [
    "#Perform the searchsort method in Numpy array.\n",
    "import numpy as np\n",
    "arr = np.array([10,32,45,67,88,43])\n",
    "num = 45\n",
    "search = np.searchsorted(arr, num)\n",
    "print(search)"
   ]
  },
  {
   "cell_type": "code",
   "execution_count": 27,
   "metadata": {},
   "outputs": [
    {
     "name": "stdout",
     "output_type": "stream",
     "text": [
      "Structured Array:\n",
      "[('John Doe', 25, 'Team A', 18.5, 4) ('Jane Smith', 22, 'Team B', 15.2, 2)\n",
      " ('Mike Johnson', 28, 'Team A', 20.1, 6)]\n",
      "\n",
      "First Athlete:\n",
      "Name: John Doe\n",
      "Age: 25\n",
      "Team: Team A\n",
      "Points:  18.5\n",
      "Assists:  4\n"
     ]
    }
   ],
   "source": [
    "#Create Numpy Structured array using your domain features.\n",
    "\n",
    "import numpy as np\n",
    "\n",
    "athlete_dtype = np.dtype([\n",
    "    ('name', 'U50'),('age', int),('team', 'U50'),('points', float),('assists', int)       \n",
    "])\n",
    "\n",
    "#numpy array with sample data\n",
    "athletes_data = np.array([\n",
    "    ('John Doe', 25, 'Team A', 18.5, 4),\n",
    "    ('Jane Smith', 22, 'Team B', 15.2, 2),\n",
    "    ('Mike Johnson', 28, 'Team A', 20.1, 6),\n",
    "], dtype=athlete_dtype)\n",
    "\n",
    "print(\"Structured Array:\")\n",
    "print(athletes_data)\n",
    "print(\"\\nFirst Athlete:\")\n",
    "print(\"Name:\", athletes_data[0]['name'])\n",
    "print(\"Age:\", athletes_data[0]['age'])\n",
    "print(\"Team:\", athletes_data[0]['team'])\n",
    "print(\"Points: \",athletes_data[0]['points'])\n",
    "print(\"Assists: \",athletes_data[0]['assists'])"
   ]
  },
  {
   "cell_type": "code",
   "execution_count": 33,
   "metadata": {},
   "outputs": [
    {
     "name": "stdout",
     "output_type": "stream",
     "text": [
      "DataFrame created from a list of dictionaries:\n",
      "      Name  Age\n",
      "0    Alice   28\n",
      "1      Bob   22\n",
      "2  Charlie   25\n"
     ]
    }
   ],
   "source": [
    "#Create Data frame using List and Dictionary.\n",
    "\n",
    "import pandas as pd\n",
    "\n",
    "data_list_of_dicts = [\n",
    "    {'Name': 'Alice', 'Age': 28},\n",
    "    {'Name': 'Bob', 'Age': 22},\n",
    "    {'Name': 'Charlie', 'Age': 25}\n",
    "]\n",
    "\n",
    "df_from_list_of_dicts = pd.DataFrame(data_list_of_dicts)\n",
    "\n",
    "print(\"DataFrame created from a list of dictionaries:\")\n",
    "print(df_from_list_of_dicts)"
   ]
  },
  {
   "cell_type": "code",
   "execution_count": 44,
   "metadata": {},
   "outputs": [
    {
     "name": "stdout",
     "output_type": "stream",
     "text": [
      "Original DataFrame:\n",
      "      Name   Age   Salary\n",
      "0    Alice  25.0  50000.0\n",
      "1      Bob   NaN  60000.0\n",
      "2  Charlie  30.0      NaN\n",
      "3    David  22.0      NaN\n",
      "4      Eva  28.0  75000.0\n",
      "\n",
      "Using isnull() to check for missing values:\n",
      "    Name    Age  Salary\n",
      "0  False  False   False\n",
      "1  False   True   False\n",
      "2  False  False    True\n",
      "3  False  False    True\n",
      "4  False  False   False\n",
      "\n",
      "Using notnull() to check for non-missing values:\n",
      "   Name    Age  Salary\n",
      "0  True   True    True\n",
      "1  True  False    True\n",
      "2  True   True   False\n",
      "3  True   True   False\n",
      "4  True   True    True\n",
      "\n",
      "Using dropna() to remove rows with missing values:\n",
      "    Name   Age   Salary\n",
      "0  Alice  25.0  50000.0\n",
      "4    Eva  28.0  75000.0\n",
      "\n",
      "Using fillna() to fill missing values:\n",
      "      Name    Age   Salary\n",
      "0    Alice  25.00  50000.0\n",
      "1      Bob  26.25  60000.0\n",
      "2  Charlie  30.00  60000.0\n",
      "3    David  22.00  60000.0\n",
      "4      Eva  28.00  75000.0\n",
      "\n",
      "Using replace() to replace specific values:\n",
      "      Name   Age   Salary\n",
      "0   Alicia  25.0  50000.0\n",
      "1    Bobby   NaN  60000.0\n",
      "2  Charlie  30.0      NaN\n",
      "3    David  22.0      NaN\n",
      "4      Eva  28.0  75000.0\n",
      "\n",
      "Using interpolate() to fill missing values with interpolation:\n",
      "      Name   Age   Salary\n",
      "0    Alice  25.0  50000.0\n",
      "1      Bob  27.5  60000.0\n",
      "2  Charlie  30.0  65000.0\n",
      "3    David  22.0  70000.0\n",
      "4      Eva  28.0  75000.0\n"
     ]
    },
    {
     "name": "stderr",
     "output_type": "stream",
     "text": [
      "C:\\Users\\aksha\\AppData\\Local\\Temp\\ipykernel_10000\\1374329613.py:43: FutureWarning: DataFrame.interpolate with object dtype is deprecated and will raise in a future version. Call obj.infer_objects(copy=False) before interpolating instead.\n",
      "  df_interpolated = df.interpolate()\n"
     ]
    }
   ],
   "source": [
    "\n",
    "#Create Data frame on your Domain area and perform the following operations to find and eliminate the\n",
    "#missing data from the dataset.\n",
    "\n",
    "\n",
    "import pandas as pd\n",
    "import numpy as np\n",
    "\n",
    "\n",
    "data = {'Name': ['Alice', 'Bob', 'Charlie', 'David', 'Eva'],\n",
    "        'Age': [25, np.nan, 30, 22, 28],\n",
    "        'Salary': [50000, 60000, np.nan, np.nan, 75000]}\n",
    "df = pd.DataFrame(data)\n",
    "\n",
    "\n",
    "print(\"Original DataFrame:\")\n",
    "print(df)\n",
    "\n",
    "\n",
    "print(\"\\nUsing isnull() to check for missing values:\")\n",
    "print(df.isnull())\n",
    "\n",
    "print(\"\\nUsing notnull() to check for non-missing values:\")\n",
    "print(df.notnull())\n",
    "\n",
    "\n",
    "df_dropped = df.dropna()\n",
    "print(\"\\nUsing dropna() to remove rows with missing values:\")\n",
    "print(df_dropped)\n",
    "\n",
    "\n",
    "df_filled = df.fillna({'Age': df['Age'].mean(), 'Salary': df['Salary'].median()})\n",
    "print(\"\\nUsing fillna() to fill missing values:\")\n",
    "print(df_filled)\n",
    "\n",
    "\n",
    "df_replaced = df.replace({'Alice': 'Alicia', 'Bob': 'Bobby'})\n",
    "print(\"\\nUsing replace() to replace specific values:\")\n",
    "print(df_replaced)\n",
    "\n",
    "\n",
    "df = df.infer_objects()\n",
    "\n",
    "df_interpolated = df.interpolate()\n",
    "print(\"\\nUsing interpolate() to fill missing values with interpolation:\")\n",
    "print(df_interpolated)"
   ]
  },
  {
   "cell_type": "code",
   "execution_count": 43,
   "metadata": {},
   "outputs": [
    {
     "name": "stdout",
     "output_type": "stream",
     "text": [
      "DataFrame with Hierarchical Indexing:\n",
      "                     Age   Salary\n",
      "Department Name                  \n",
      "HR         Alice    25.0  50000.0\n",
      "IT         Bob       NaN  60000.0\n",
      "Finance    Charlie  30.0      NaN\n",
      "IT         David    22.0      NaN\n",
      "Marketing  Eva      28.0  75000.0\n"
     ]
    }
   ],
   "source": [
    "#Perform the Hierarchical Indexing in the above created dataset.\n",
    "\n",
    "\n",
    "import pandas as pd\n",
    "import numpy as np\n",
    "\n",
    "data = {'Name': ['Alice', 'Bob', 'Charlie', 'David', 'Eva'],\n",
    "        'Age': [25, np.nan, 30, 22, 28],\n",
    "        'Salary': [50000, 60000, np.nan, np.nan, 75000]}\n",
    "df = pd.DataFrame(data)\n",
    "\n",
    "df['Department'] = ['HR', 'IT', 'Finance', 'IT', 'Marketing']\n",
    "\n",
    "df.set_index(['Department', 'Name'], inplace=True)\n",
    "\n",
    "print(\"DataFrame with Hierarchical Indexing:\")\n",
    "print(df)"
   ]
  }
 ],
 "metadata": {
  "kernelspec": {
   "display_name": "Python 3",
   "language": "python",
   "name": "python3"
  },
  "language_info": {
   "codemirror_mode": {
    "name": "ipython",
    "version": 3
   },
   "file_extension": ".py",
   "mimetype": "text/x-python",
   "name": "python",
   "nbconvert_exporter": "python",
   "pygments_lexer": "ipython3",
   "version": "3.10.4"
  },
  "orig_nbformat": 4
 },
 "nbformat": 4,
 "nbformat_minor": 2
}
